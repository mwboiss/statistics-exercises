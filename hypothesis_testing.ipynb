{
 "cells": [
  {
   "cell_type": "markdown",
   "id": "e5c5ee3f-8e0f-4944-87e1-38c33908db3b",
   "metadata": {},
   "source": [
    "# Hypothesis Testing\n",
    "# Overview Exercises:\n",
    "\n",
    "For each of the following questions: \n",
    "- Formulate a null and alternative hypothesis (be as specific as you can be)\n",
    "- Then give an example of:\n",
    "- What a true positive, True negative, Type I errors, Type II errors would look like. "
   ]
  },
  {
   "cell_type": "markdown",
   "id": "ccf34031-dc2c-4351-ab33-98569c356c51",
   "metadata": {},
   "source": [
    "Probelm 1: Has the network latency gone up since we switched internet service providers?"
   ]
  },
  {
   "cell_type": "markdown",
   "id": "ffd8fbee-7979-4df1-9935-f789658224c7",
   "metadata": {},
   "source": [
    "- $H_{0}$ = Network latency or ping rate (milliseconds)(numeric) has not changed since the switch of service providers(boolean).\n",
    "- $H_{α}$ = Network latency or ping rate (milliseconds)(numeric) has gone up since the switch of service providers(boolean).\n",
    "- True Positive: \n",
    "- True Negative:\n",
    "- Type I error:\n",
    "- Type II error:"
   ]
  },
  {
   "cell_type": "markdown",
   "id": "4909a393-f786-42d3-a022-3d206c30e397",
   "metadata": {},
   "source": [
    "Problem 2: Is the website redesign any good?"
   ]
  },
  {
   "cell_type": "markdown",
   "id": "cfce8826-269d-4855-a4e7-1773ade6a3df",
   "metadata": {},
   "source": [
    "- $H_{0}$ = \n",
    "- $H_{α}$ = \n",
    "- True Positive:\n",
    "- True Negative:\n",
    "- Type I error:\n",
    "- Type II error:"
   ]
  },
  {
   "cell_type": "markdown",
   "id": "afdc7b4e-9c06-4730-a416-09d0ad56896f",
   "metadata": {},
   "source": [
    "Problem 3: Is our television ad driving more sales?"
   ]
  },
  {
   "cell_type": "markdown",
   "id": "17745e8d-d507-4fb6-9bef-c1206929d30d",
   "metadata": {},
   "source": [
    "- $H_{0}$ = \n",
    "- $H_{α}$ = \n",
    "- True Positive:\n",
    "- True Negative:\n",
    "- Type I error:\n",
    "- Type II error:"
   ]
  },
  {
   "cell_type": "markdown",
   "id": "a4785797-f5d8-4c51-aa47-80675163240f",
   "metadata": {},
   "source": [
    "# T-test Exercises: \n",
    "# Problem 1:\n",
    "- Ace Realty wants to determine whether the average time it takes to sell homes is different for its two offices. \n",
    "- A sample of 40 sales from office #1 revealed a mean of 90 days and a standard deviation of 15 days. \n",
    "- A sample of 50 sales from office #2 revealed a mean of 100 days and a standard deviation of 20 days. Use a .05 level of significance."
   ]
  },
  {
   "cell_type": "code",
   "execution_count": 73,
   "id": "57f50d43-ada1-4ee7-ab8d-ba49eeb3f5e7",
   "metadata": {},
   "outputs": [],
   "source": [
    "import pandas as pd\n",
    "import numpy as np\n",
    "import scipy.stats as stats\n",
    "import seaborn as sns\n",
    "import matplotlib.pyplot as plt\n",
    "import env\n",
    "from pydataset import data"
   ]
  },
  {
   "cell_type": "code",
   "execution_count": 59,
   "id": "de6dc2f8-97ff-49b5-b7ed-a34202a5b60a",
   "metadata": {},
   "outputs": [
    {
     "data": {
      "image/png": "[encoded data removed]",
      "text/plain": [
       "<Figure size 432x288 with 1 Axes>"
      ]
     },
     "metadata": {
      "needs_background": "light"
     },
     "output_type": "display_data"
    }
   ],
   "source": [
    "Off_1_observations = rows = 40\n",
    "Off_1_μ = 90\n",
    "Off_1_σ = 15\n",
    "office_1 = pd.Series(stats.norm(90,15).rvs(40))\n",
    "\n",
    "plt.hist(office_1,ec='black')\n",
    "plt.show()"
   ]
  },
  {
   "cell_type": "code",
   "execution_count": 60,
   "id": "af6fdd0b-855a-4400-9eed-2f8b0d43dbdb",
   "metadata": {},
   "outputs": [
    {
     "data": {
      "image/png": "[encoded data removed]",
      "text/plain": [
       "<Figure size 432x288 with 1 Axes>"
      ]
     },
     "metadata": {
      "needs_background": "light"
     },
     "output_type": "display_data"
    }
   ],
   "source": [
    "Off_2_observations = rows = 50\n",
    "Off_2_μ = 100\n",
    "Off_2_σ = 20\n",
    "office_2 = pd.Series(stats.norm(100, 20).rvs(50))\n",
    "\n",
    "plt.hist(office_2,ec='black')\n",
    "plt.show()"
   ]
  },
  {
   "cell_type": "markdown",
   "id": "edc9a153-2249-452e-9132-9d626d2d6fb4",
   "metadata": {},
   "source": [
    "$H_{0}$: Average time to sell a home did not change between two offices.\n",
    "\n",
    "$H_{α}$: Average time did change between both offices. "
   ]
  },
  {
   "cell_type": "code",
   "execution_count": 61,
   "id": "6debe240-59f3-43ab-9e49-c06d94a29298",
   "metadata": {},
   "outputs": [],
   "source": [
    "α = 0.05"
   ]
  },
  {
   "cell_type": "code",
   "execution_count": 62,
   "id": "ab0cd539-27da-4ee9-b451-8b24f9dc7850",
   "metadata": {},
   "outputs": [],
   "source": [
    "# Verify assumptions\n",
    "# At least 30 observations: Yes there are at least 30 observaitons in both sets\n",
    "# Independent samples: Yes, they are both from different sets\n",
    "# Equal variances: No, "
   ]
  },
  {
   "cell_type": "code",
   "execution_count": 63,
   "id": "fcf0321a-ba39-45ce-bf7c-75dc1eba1c9b",
   "metadata": {},
   "outputs": [],
   "source": [
    "var_equal = office_1.var() ==  office_2.var()"
   ]
  },
  {
   "cell_type": "code",
   "execution_count": 64,
   "id": "f96f2ff4-b075-4800-ac79-9cda822c3967",
   "metadata": {},
   "outputs": [
    {
     "data": {
      "text/plain": [
       "'P = 0.00811206270346016, P/2 = 0.00405603135173008, α = 0.05, T = -2.7091418459143854'"
      ]
     },
     "execution_count": 64,
     "metadata": {},
     "output_type": "execute_result"
    }
   ],
   "source": [
    "tstat, pval = stats.ttest_ind_from_stats(90, 15, 40, 100, 20, 50, equal_var = var_equal)\n",
    "f'P = {pval}, P/2 = {pval/2}, α = {α}, T = {tstat}' "
   ]
  },
  {
   "cell_type": "code",
   "execution_count": 65,
   "id": "1d8f5a22-8829-4547-b977-a0adb91df90d",
   "metadata": {},
   "outputs": [
    {
     "name": "stdout",
     "output_type": "stream",
     "text": [
      "We cannot reject H0\n"
     ]
    }
   ],
   "source": [
    "if (pval/2 < α) and (tstat > 0):\n",
    "    print(f'We can reject H0')\n",
    "else:\n",
    "    print(f'We cannot reject H0')"
   ]
  },
  {
   "cell_type": "markdown",
   "id": "e8e532f3-1bf7-47cc-bbab-e608203ad2a9",
   "metadata": {},
   "source": [
    "The Null Hypothesis cannot be rejected."
   ]
  },
  {
   "cell_type": "markdown",
   "id": "18ff3a5a-9e66-4860-98fe-7445ec32d77d",
   "metadata": {},
   "source": [
    "# Problem 2: \n",
    "\n",
    "Load the mpg dataset and use it to answer the following questions:"
   ]
  },
  {
   "cell_type": "code",
   "execution_count": 111,
   "id": "a1e6f970-5c97-4939-9729-c9e5b613222c",
   "metadata": {},
   "outputs": [
    {
     "data": {
      "text/html": [
       "<div>\n",
       "<style scoped>\n",
       "    .dataframe tbody tr th:only-of-type {\n",
       "        vertical-align: middle;\n",
       "    }\n",
       "\n",
       "    .dataframe tbody tr th {\n",
       "        vertical-align: top;\n",
       "    }\n",
       "\n",
       "    .dataframe thead th {\n",
       "        text-align: right;\n",
       "    }\n",
       "</style>\n",
       "<table border=\"1\" class=\"dataframe\">\n",
       "  <thead>\n",
       "    <tr style=\"text-align: right;\">\n",
       "      <th></th>\n",
       "      <th>manufacturer</th>\n",
       "      <th>model</th>\n",
       "      <th>displ</th>\n",
       "      <th>year</th>\n",
       "      <th>cyl</th>\n",
       "      <th>trans</th>\n",
       "      <th>drv</th>\n",
       "      <th>cty</th>\n",
       "      <th>hwy</th>\n",
       "      <th>fl</th>\n",
       "      <th>class</th>\n",
       "    </tr>\n",
       "  </thead>\n",
       "  <tbody>\n",
       "    <tr>\n",
       "      <th>1</th>\n",
       "      <td>audi</td>\n",
       "      <td>a4</td>\n",
       "      <td>1.8</td>\n",
       "      <td>1999</td>\n",
       "      <td>4</td>\n",
       "      <td>auto(l5)</td>\n",
       "      <td>f</td>\n",
       "      <td>18</td>\n",
       "      <td>29</td>\n",
       "      <td>p</td>\n",
       "      <td>compact</td>\n",
       "    </tr>\n",
       "    <tr>\n",
       "      <th>2</th>\n",
       "      <td>audi</td>\n",
       "      <td>a4</td>\n",
       "      <td>1.8</td>\n",
       "      <td>1999</td>\n",
       "      <td>4</td>\n",
       "      <td>manual(m5)</td>\n",
       "      <td>f</td>\n",
       "      <td>21</td>\n",
       "      <td>29</td>\n",
       "      <td>p</td>\n",
       "      <td>compact</td>\n",
       "    </tr>\n",
       "    <tr>\n",
       "      <th>3</th>\n",
       "      <td>audi</td>\n",
       "      <td>a4</td>\n",
       "      <td>2.0</td>\n",
       "      <td>2008</td>\n",
       "      <td>4</td>\n",
       "      <td>manual(m6)</td>\n",
       "      <td>f</td>\n",
       "      <td>20</td>\n",
       "      <td>31</td>\n",
       "      <td>p</td>\n",
       "      <td>compact</td>\n",
       "    </tr>\n",
       "    <tr>\n",
       "      <th>4</th>\n",
       "      <td>audi</td>\n",
       "      <td>a4</td>\n",
       "      <td>2.0</td>\n",
       "      <td>2008</td>\n",
       "      <td>4</td>\n",
       "      <td>auto(av)</td>\n",
       "      <td>f</td>\n",
       "      <td>21</td>\n",
       "      <td>30</td>\n",
       "      <td>p</td>\n",
       "      <td>compact</td>\n",
       "    </tr>\n",
       "    <tr>\n",
       "      <th>5</th>\n",
       "      <td>audi</td>\n",
       "      <td>a4</td>\n",
       "      <td>2.8</td>\n",
       "      <td>1999</td>\n",
       "      <td>6</td>\n",
       "      <td>auto(l5)</td>\n",
       "      <td>f</td>\n",
       "      <td>16</td>\n",
       "      <td>26</td>\n",
       "      <td>p</td>\n",
       "      <td>compact</td>\n",
       "    </tr>\n",
       "  </tbody>\n",
       "</table>\n",
       "</div>"
      ],
      "text/plain": [
       "  manufacturer model  displ  year  cyl       trans drv  cty  hwy fl    class\n",
       "1         audi    a4    1.8  1999    4    auto(l5)   f   18   29  p  compact\n",
       "2         audi    a4    1.8  1999    4  manual(m5)   f   21   29  p  compact\n",
       "3         audi    a4    2.0  2008    4  manual(m6)   f   20   31  p  compact\n",
       "4         audi    a4    2.0  2008    4    auto(av)   f   21   30  p  compact\n",
       "5         audi    a4    2.8  1999    6    auto(l5)   f   16   26  p  compact"
      ]
     },
     "execution_count": 111,
     "metadata": {},
     "output_type": "execute_result"
    }
   ],
   "source": [
    "mpg = data('mpg')\n",
    "mpg.head()"
   ]
  },
  {
   "cell_type": "markdown",
   "id": "3eb247d6-66c7-4399-969d-65e32005a2ed",
   "metadata": {},
   "source": [
    "Is there a difference in fuel-efficiency in cars from 2008 vs 1999?"
   ]
  },
  {
   "cell_type": "code",
   "execution_count": 116,
   "id": "18be38f3-4ac0-41db-9cd6-08f142d23ae4",
   "metadata": {},
   "outputs": [],
   "source": [
    "## Creating two seperate dataframes for each year to compare."
   ]
  },
  {
   "cell_type": "code",
   "execution_count": 112,
   "id": "4dbeebfb-c6e1-49c7-9771-4ddf75bc33e7",
   "metadata": {},
   "outputs": [],
   "source": [
    "mpg_2008 = mpg[mpg.year == 2008]\n",
    "mpg_1999 = mpg[mpg.year == 1999]"
   ]
  },
  {
   "cell_type": "code",
   "execution_count": 117,
   "id": "498dc3ba-dd8d-4074-9a2b-22354a689075",
   "metadata": {},
   "outputs": [],
   "source": [
    "# Plot"
   ]
  },
  {
   "cell_type": "code",
   "execution_count": 118,
   "id": "0419a3d9-5067-4cb9-9ad7-394765b6209e",
   "metadata": {},
   "outputs": [
    {
     "data": {
      "image/png": "[encoded data removed]",
      "text/plain": [
       "<Figure size 432x288 with 1 Axes>"
      ]
     },
     "metadata": {
      "needs_background": "light"
     },
     "output_type": "display_data"
    }
   ],
   "source": [
    "mpg_2008.hwy.hist()\n",
    "plt.show()"
   ]
  },
  {
   "cell_type": "code",
   "execution_count": 119,
   "id": "a3607fad-f98f-450a-8717-ea905969e16d",
   "metadata": {},
   "outputs": [
    {
     "data": {
      "image/png": "[encoded data removed]",
      "text/plain": [
       "<Figure size 432x288 with 1 Axes>"
      ]
     },
     "metadata": {
      "needs_background": "light"
     },
     "output_type": "display_data"
    }
   ],
   "source": [
    "mpg_1999.hwy.hist()\n",
    "plt.show()"
   ]
  },
  {
   "cell_type": "code",
   "execution_count": 120,
   "id": "5cf82629-f484-4c53-a437-c7a0ea51410c",
   "metadata": {},
   "outputs": [],
   "source": [
    "## Hypothesis"
   ]
  },
  {
   "cell_type": "markdown",
   "id": "2203f008-3ffa-4d72-b974-ce72437966ef",
   "metadata": {},
   "source": [
    "- $H_{0}$ = There is no difference in fuel efficiency between 2008 and 1999 cars.\n",
    "- $H_{1}$ = There is a difference in fuel efficiency between 2008 and 1999 cars."
   ]
  },
  {
   "cell_type": "code",
   "execution_count": 121,
   "id": "6c6c86ee-f64b-4550-98fa-d9d11f7be9d1",
   "metadata": {},
   "outputs": [],
   "source": [
    "## Alpha or Significance level\n",
    "α = 0.05"
   ]
  },
  {
   "cell_type": "code",
   "execution_count": 125,
   "id": "b0ee7bb1-fd71-438c-8f1c-8a0a348c50b6",
   "metadata": {},
   "outputs": [
    {
     "data": {
      "text/plain": [
       "True"
      ]
     },
     "execution_count": 125,
     "metadata": {},
     "output_type": "execute_result"
    }
   ],
   "source": [
    "##### Verify Assumption:\n",
    "## Norm dist or at least 30?\n",
    "\n",
    "least_30 = (len(mpg_2008) > 30) and (len(mpg_1999) > 30)\n",
    "least_30"
   ]
  },
  {
   "cell_type": "code",
   "execution_count": 126,
   "id": "9a6e1afe-f981-4147-92b5-8c3a6971f0a3",
   "metadata": {},
   "outputs": [],
   "source": [
    "## Independent: Yes a vehicel cannot be made in two different years so far apart."
   ]
  },
  {
   "cell_type": "code",
   "execution_count": 134,
   "id": "1918e442-7270-49c6-a84e-2124f26b35a1",
   "metadata": {},
   "outputs": [
    {
     "data": {
      "text/plain": [
       "False"
      ]
     },
     "execution_count": 134,
     "metadata": {},
     "output_type": "execute_result"
    }
   ],
   "source": [
    "## Equal Variance?\n",
    "l_tstat, l_p = stats.levene(mpg_2008.hwy ,mpg_1999.hwy)\n",
    "var_equal = (l_p / 2 < 0.05) and (l_tstat > 0)\n",
    "var_equal"
   ]
  },
  {
   "cell_type": "code",
   "execution_count": 137,
   "id": "99265fb2-6904-421f-a490-d00aa179f5fa",
   "metadata": {},
   "outputs": [
    {
     "data": {
      "text/plain": [
       "False"
      ]
     },
     "execution_count": 137,
     "metadata": {},
     "output_type": "execute_result"
    }
   ],
   "source": [
    "## Compute tstat and pval\n",
    "tstat, pval = stats.ttest_ind(mpg_2008.hwy, mpg_1999.hwy, equal_var = var_equal)\n",
    "reject_hy = (p / 2 < α) and (tstat > 0)\n",
    "reject_hy"
   ]
  },
  {
   "cell_type": "code",
   "execution_count": null,
   "id": "aaf89c54-b512-4f04-9b98-5229fbc3e011",
   "metadata": {},
   "outputs": [],
   "source": [
    "- decide"
   ]
  },
  {
   "cell_type": "code",
   "execution_count": null,
   "id": "3e364fc1-7103-4cd7-a261-b37645a3042a",
   "metadata": {},
   "outputs": [],
   "source": []
  },
  {
   "cell_type": "markdown",
   "id": "76c72c7c-78e6-4aa4-8b87-f44a05e1b12f",
   "metadata": {},
   "source": [
    "Are compact cars more fuel-efficient than the average car?"
   ]
  },
  {
   "cell_type": "markdown",
   "id": "3a3f18ac-f1d4-4d65-9df3-87126ea76936",
   "metadata": {},
   "source": [
    "- plot\n",
    "- hypothesis\n",
    "- set alpha\n",
    "- verify assumptions: norm dist or least 30, independent, equal var\n",
    "- compute test stat and pval\n",
    "- decide"
   ]
  },
  {
   "cell_type": "markdown",
   "id": "9eb6ea15-4d45-4692-b235-61c2ef720ced",
   "metadata": {},
   "source": [
    "Do manual cars get better gas mileage than automatic cars?"
   ]
  },
  {
   "cell_type": "markdown",
   "id": "009b583e-eced-41f0-851b-cdcb91098017",
   "metadata": {},
   "source": [
    "- plot\n",
    "- hypothesis\n",
    "- set alpha\n",
    "- verify assumptions: norm dist or least 30, independent, equal var\n",
    "- compute test stat and pval\n",
    "- decide"
   ]
  },
  {
   "cell_type": "markdown",
   "id": "13d60559-3c23-4895-8330-365b6e77692d",
   "metadata": {},
   "source": [
    "# Correlation Exercises: \n",
    "Use the telco_churn data."
   ]
  },
  {
   "cell_type": "markdown",
   "id": "a4128aa1-95ad-4aa7-a94b-696e12a7559b",
   "metadata": {},
   "source": [
    "Problem 1: Does tenure correlate with monthly charges? "
   ]
  },
  {
   "cell_type": "code",
   "execution_count": null,
   "id": "e81b05ea-47aa-47ed-8650-50645c6d33e6",
   "metadata": {},
   "outputs": [],
   "source": []
  },
  {
   "cell_type": "markdown",
   "id": "dec94374-5af7-477d-b377-e9cf1f572220",
   "metadata": {},
   "source": [
    "Total charges? "
   ]
  },
  {
   "cell_type": "code",
   "execution_count": null,
   "id": "8fbb89e2-e457-4396-87ca-9ab3d6304d72",
   "metadata": {},
   "outputs": [],
   "source": []
  },
  {
   "cell_type": "markdown",
   "id": "795b6521-d73e-4ce7-93a9-f64a8ef4244e",
   "metadata": {},
   "source": [
    "What happens if you control for phone and internet service?"
   ]
  },
  {
   "cell_type": "code",
   "execution_count": null,
   "id": "f9e210e8-3f5e-4340-a71a-3d9105ae6018",
   "metadata": {},
   "outputs": [],
   "source": []
  },
  {
   "cell_type": "markdown",
   "id": "305044d2-18dc-4a23-8335-8a0c007d1b4f",
   "metadata": {},
   "source": [
    "Problem 2: Use the employees database.\n",
    "Is there a relationship between how long an employee has been with the company and their salary?"
   ]
  },
  {
   "cell_type": "code",
   "execution_count": null,
   "id": "3f8b177a-3551-4434-839a-bd662499865d",
   "metadata": {},
   "outputs": [],
   "source": []
  },
  {
   "cell_type": "markdown",
   "id": "c25a10b5-8ec5-4efd-93e5-8f1bc62949e3",
   "metadata": {},
   "source": [
    "Is there a relationship between how long an employee has been with the company and the number of titles they have had?"
   ]
  },
  {
   "cell_type": "code",
   "execution_count": null,
   "id": "6919ece9-8b6d-44c6-8ff0-4cfb7a50f310",
   "metadata": {},
   "outputs": [],
   "source": []
  },
  {
   "cell_type": "markdown",
   "id": "bde04f71-d95c-4cdd-b2df-1e52c423f5be",
   "metadata": {},
   "source": [
    "Problem 3: Use the sleepstudy data. Is there a relationship between days and reaction time?"
   ]
  },
  {
   "cell_type": "code",
   "execution_count": null,
   "id": "71daf5e8-3451-4b2c-b503-af20c8b0740b",
   "metadata": {},
   "outputs": [],
   "source": []
  },
  {
   "cell_type": "markdown",
   "id": "874607da-25db-40b8-8ca1-1a21eef27226",
   "metadata": {},
   "source": [
    "# Chi Square Exercises:"
   ]
  },
  {
   "cell_type": "markdown",
   "id": "f2950cca-73cc-4af9-8ef5-733af8873280",
   "metadata": {},
   "source": [
    "Problem 1: Use the following contingency table to help answer the question of whether using a macbook and being a codeup student are independent of each other."
   ]
  },
  {
   "cell_type": "markdown",
   "id": "1e3c4606-f0b0-4e3e-a8c7-c2129f26d5b6",
   "metadata": {},
   "source": [
    "| | Codeup Student | Not Codeup Student |\n",
    "| :- | :-: | :-: |\n",
    "| Uses a Macbook | 49 | 20\n",
    "| Doesn't Use A Macbook | 1 | 30 |"
   ]
  },
  {
   "cell_type": "code",
   "execution_count": null,
   "id": "1a329038-a55c-4d8a-951d-b203e3a475d8",
   "metadata": {},
   "outputs": [],
   "source": []
  },
  {
   "cell_type": "markdown",
   "id": "53ffc5c8-9b07-4355-9567-21c315e1c19f",
   "metadata": {},
   "source": [
    "Problem 2: Choose another 2 categorical variables from the mpg dataset and perform a chi2 contingency table test with them. Be sure to state your null and alternative hypotheses."
   ]
  },
  {
   "cell_type": "code",
   "execution_count": null,
   "id": "2528b78b-9946-4014-a21e-8964ab7218e7",
   "metadata": {},
   "outputs": [],
   "source": []
  },
  {
   "cell_type": "markdown",
   "id": "1fd3a214-1a27-4eaa-90d4-a257a894b539",
   "metadata": {},
   "source": [
    "Problem 3: Use the data from the employees database to answer these questions:\n",
    "Is an employee's gender independent of whether an employee works in sales or marketing? (only look at current employees)"
   ]
  },
  {
   "cell_type": "code",
   "execution_count": null,
   "id": "d06174b8-ff29-495f-b919-89d66a25316d",
   "metadata": {},
   "outputs": [],
   "source": []
  },
  {
   "cell_type": "markdown",
   "id": "9de6db6e-8f1c-4284-8ac4-1e4d7aa01ef8",
   "metadata": {},
   "source": [
    "Is an employee's gender independent of whether or not they are or have been a manager"
   ]
  },
  {
   "cell_type": "code",
   "execution_count": null,
   "id": "6dc33453-04ea-45d3-a8d9-81ff71137205",
   "metadata": {},
   "outputs": [],
   "source": []
  },
  {
   "cell_type": "markdown",
   "id": "14fb4d28-3a06-4360-bb82-25aa073211c4",
   "metadata": {},
   "source": [
    "# More Exercises: \n",
    "Choose several continous and categorical variables that were not covered in the lesson and perform each type of test on them. You may use another data set if you wish."
   ]
  },
  {
   "cell_type": "code",
   "execution_count": null,
   "id": "c1e9cd25-6c74-4eb4-8416-492d32789bca",
   "metadata": {},
   "outputs": [],
   "source": []
  }
 ],
 "metadata": {
  "kernelspec": {
   "display_name": "Python 3 (ipykernel)",
   "language": "python",
   "name": "python3"
  },
  "language_info": {
   "codemirror_mode": {
    "name": "ipython",
    "version": 3
   },
   "file_extension": ".py",
   "mimetype": "text/x-python",
   "name": "python",
   "nbconvert_exporter": "python",
   "pygments_lexer": "ipython3",
   "version": "3.9.7"
  }
 },
 "nbformat": 4,
 "nbformat_minor": 5
}
