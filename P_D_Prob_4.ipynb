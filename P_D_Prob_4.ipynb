{
 "cells": [
  {
   "cell_type": "code",
   "execution_count": 40,
   "id": "8ee7b7fc-1712-44a4-a0d3-5be9ce406ec1",
   "metadata": {},
   "outputs": [],
   "source": [
    "import matplotlib.pyplot as plt\n",
    "import numpy as np\n",
    "import pandas as pd\n",
    "from scipy import stats"
   ]
  },
  {
   "cell_type": "markdown",
   "id": "32d61e91-52f3-4a01-9706-0c0d1c306ce9",
   "metadata": {},
   "source": [
    "Problem 4: You are working on some statistics homework consisting of 100 questions where all of the answers are a probability rounded to the hundreths place. \n",
    "Looking to save time, you put down random probabilities as the answer to each question.\n",
    "What is the probability that at least one of your first 60 answers is correct?"
   ]
  },
  {
   "cell_type": "code",
   "execution_count": 41,
   "id": "b745e438-7f9a-46e9-82e6-f944228362a6",
   "metadata": {},
   "outputs": [
    {
     "data": {
      "image/png": "[encoded data removed]",
      "text/plain": [
       "<Figure size 432x288 with 1 Axes>"
      ]
     },
     "metadata": {
      "needs_background": "light"
     },
     "output_type": "display_data"
    }
   ],
   "source": [
    "pd.Series(stats.binom(60, 0.01).rvs(10_000)).value_counts().sort_index().plot.bar(width=1,ec='black')\n",
    "plt.show()"
   ]
  },
  {
   "cell_type": "code",
   "execution_count": 42,
   "id": "545039ef-5e14-44d1-aa12-1217c84d7275",
   "metadata": {},
   "outputs": [
    {
     "data": {
      "text/plain": [
       "0.4515"
      ]
     },
     "execution_count": 42,
     "metadata": {},
     "output_type": "execute_result"
    }
   ],
   "source": [
    "n_trials = 10_000\n",
    "n_problems = 60\n",
    "one_in_one_hundered_chance = 1/100\n",
    "\n",
    "blind_guess = np.random.binomial(n_problems, one_in_one_hundered_chance, size = n_trials)\n",
    "\n",
    "(blind_guess > 0).mean()"
   ]
  },
  {
   "cell_type": "code",
   "execution_count": 43,
   "id": "01887df2-6414-4a3c-b70a-d0e145b0f9c4",
   "metadata": {},
   "outputs": [
    {
     "data": {
      "text/plain": [
       "0.45284335760923855"
      ]
     },
     "execution_count": 43,
     "metadata": {},
     "output_type": "execute_result"
    }
   ],
   "source": [
    "stats.binom(60,0.01).sf(0)"
   ]
  }
 ],
 "metadata": {
  "kernelspec": {
   "display_name": "Python 3 (ipykernel)",
   "language": "python",
   "name": "python3"
  },
  "language_info": {
   "codemirror_mode": {
    "name": "ipython",
    "version": 3
   },
   "file_extension": ".py",
   "mimetype": "text/x-python",
   "name": "python",
   "nbconvert_exporter": "python",
   "pygments_lexer": "ipython3",
   "version": "3.9.7"
  }
 },
 "nbformat": 4,
 "nbformat_minor": 5
}
