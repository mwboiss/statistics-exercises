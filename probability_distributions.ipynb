{
 "cells": [
  {
   "cell_type": "markdown",
   "id": "1cc10ed4-5a98-437b-af02-86b0bc254730",
   "metadata": {},
   "source": [
    "Probablity Distributions Exercises: For the following problems, use python to simulate the problem and calculate an experimental probability, \n",
    "then compare that to the theoretical probability."
   ]
  },
  {
   "cell_type": "code",
   "execution_count": 78,
   "id": "24c35d78-a356-4ae3-9368-ca43d3e672ef",
   "metadata": {},
   "outputs": [],
   "source": [
    "import matplotlib.pyplot as plt\n",
    "import numpy as np\n",
    "import pandas as pd\n",
    "from scipy import stats"
   ]
  },
  {
   "cell_type": "markdown",
   "id": "7bf86ed4-2193-4393-8850-3b2b03996dd6",
   "metadata": {},
   "source": [
    "Problem 1: A bank found that the average number of cars waiting during the noon hour at a drive-up window follows a Poisson distribution with a mean of 2 cars. \n",
    "Make a chart of this distribution and answer these questions concerning the probability of cars waiting at the drive-up window."
   ]
  },
  {
   "cell_type": "code",
   "execution_count": 79,
   "id": "3bd88474-6073-4020-86e1-6dbd046aff15",
   "metadata": {},
   "outputs": [
    {
     "data": {
      "image/png": "[encoded data removed]",
      "text/plain": [
       "<Figure size 432x288 with 1 Axes>"
      ]
     },
     "metadata": {
      "needs_background": "light"
     },
     "output_type": "display_data"
    }
   ],
   "source": [
    "cars = pd.Series(stats.poisson(2).rvs(10_000))\n",
    "cars.value_counts().sort_index().plot.bar(width=1, ec='black')\n",
    "plt.show()"
   ]
  },
  {
   "cell_type": "markdown",
   "id": "ff2b451b-5d2d-4d27-8cb7-cf25ebb3ec77",
   "metadata": {},
   "source": [
    "What is the probability that no cars drive up in the noon hour?"
   ]
  },
  {
   "cell_type": "code",
   "execution_count": 80,
   "id": "ccee73dc-f402-42f4-b1e0-a3495a7fe5a9",
   "metadata": {},
   "outputs": [
    {
     "data": {
      "text/plain": [
       "0.1398"
      ]
     },
     "execution_count": 80,
     "metadata": {},
     "output_type": "execute_result"
    }
   ],
   "source": [
    "# Experimental\n",
    "(cars == 0).mean()"
   ]
  },
  {
   "cell_type": "code",
   "execution_count": 81,
   "id": "de65f321-f847-4b2a-ab7e-1a3e0ebcbfec",
   "metadata": {},
   "outputs": [
    {
     "data": {
      "text/plain": [
       "0.1353352832366127"
      ]
     },
     "execution_count": 81,
     "metadata": {},
     "output_type": "execute_result"
    }
   ],
   "source": [
    "# Theoretical\n",
    "stats.poisson(2).pmf(0)"
   ]
  },
  {
   "cell_type": "markdown",
   "id": "95616d86-5356-4b94-9488-60b77906fa96",
   "metadata": {},
   "source": [
    "What is the probability that 3 or more cars come through the drive through?"
   ]
  },
  {
   "cell_type": "code",
   "execution_count": 82,
   "id": "a917c452-b75c-417d-8b5b-b430d1092ff4",
   "metadata": {},
   "outputs": [
    {
     "data": {
      "text/plain": [
       "0.3217"
      ]
     },
     "execution_count": 82,
     "metadata": {},
     "output_type": "execute_result"
    }
   ],
   "source": [
    "# Experimental\n",
    "(cars >= 3).mean()"
   ]
  },
  {
   "cell_type": "code",
   "execution_count": 83,
   "id": "f24695f1-3c0b-4ec5-a13b-39ac4ea431bf",
   "metadata": {},
   "outputs": [
    {
     "data": {
      "text/plain": [
       "0.32332358381693654"
      ]
     },
     "execution_count": 83,
     "metadata": {},
     "output_type": "execute_result"
    }
   ],
   "source": [
    "# Theoretical\n",
    "stats.poisson(2).sf(2)"
   ]
  },
  {
   "cell_type": "markdown",
   "id": "4d8070a7-149f-4357-8bcc-ee92f69fa4a2",
   "metadata": {},
   "source": [
    "How likely is it that the drive through gets at least 1 car?"
   ]
  },
  {
   "cell_type": "code",
   "execution_count": 84,
   "id": "86bbeb26-cc0b-4961-9a3a-1e86fff4223c",
   "metadata": {},
   "outputs": [
    {
     "data": {
      "text/plain": [
       "0.8602"
      ]
     },
     "execution_count": 84,
     "metadata": {},
     "output_type": "execute_result"
    }
   ],
   "source": [
    "# Experimental\n",
    "(cars >= 1).mean()"
   ]
  },
  {
   "cell_type": "code",
   "execution_count": 85,
   "id": "c3020bac-95d2-40a4-b22c-b307a32a4861",
   "metadata": {},
   "outputs": [
    {
     "data": {
      "text/plain": [
       "0.8646647167633873"
      ]
     },
     "execution_count": 85,
     "metadata": {},
     "output_type": "execute_result"
    }
   ],
   "source": [
    "# Theoretical\n",
    "stats.poisson(2).sf(0)"
   ]
  },
  {
   "cell_type": "markdown",
   "id": "8a5bf570-9210-4cea-95cc-c6945e0460e1",
   "metadata": {},
   "source": [
    "Problem 2: Grades of State University graduates are normally distributed with a mean of 3.0 and a standard deviation of .3. Calculate the following:"
   ]
  },
  {
   "cell_type": "code",
   "execution_count": 157,
   "id": "0e710134-12ac-4913-8329-4aa541c6345d",
   "metadata": {},
   "outputs": [
    {
     "data": {
      "image/png": "[encoded data removed]",
      "text/plain": [
       "<Figure size 432x288 with 1 Axes>"
      ]
     },
     "metadata": {
      "needs_background": "light"
     },
     "output_type": "display_data"
    }
   ],
   "source": [
    "grades = pd.Series(stats.norm(3, 0.3).rvs(10_000))\n",
    "plt.hist(grades,ec ='black')\n",
    "plt.show()"
   ]
  },
  {
   "cell_type": "markdown",
   "id": "fba96447-0b32-464a-a061-483c671cce80",
   "metadata": {},
   "source": [
    "What grade point average is required to be in the top 5% of the graduating class?"
   ]
  },
  {
   "cell_type": "code",
   "execution_count": 158,
   "id": "89e9c24c-ebe0-4cdb-a068-4461677c19e6",
   "metadata": {},
   "outputs": [
    {
     "data": {
      "text/plain": [
       "3.6155224602387386"
      ]
     },
     "execution_count": 158,
     "metadata": {},
     "output_type": "execute_result"
    }
   ],
   "source": [
    "# Experimental\n",
    "num_in_top_5 = int(len(grades)* 0.05)\n",
    "grades.nlargest(num_in_top_5).mean()"
   ]
  },
  {
   "cell_type": "code",
   "execution_count": 159,
   "id": "076a8314-9ba2-4f2a-808c-ee7a62bc475d",
   "metadata": {},
   "outputs": [
    {
     "data": {
      "text/plain": [
       "3.5252058213756507"
      ]
     },
     "execution_count": 159,
     "metadata": {},
     "output_type": "execute_result"
    }
   ],
   "source": [
    "stats.norm(3, 0.3).isf(.04)"
   ]
  },
  {
   "cell_type": "markdown",
   "id": "8ea8938d-1d32-426d-9a3e-6acf024a13ec",
   "metadata": {},
   "source": [
    "What GPA constitutes the bottom 15% of the class?"
   ]
  },
  {
   "cell_type": "code",
   "execution_count": 160,
   "id": "fa568b45-89d0-490d-98a2-6323796bd1c7",
   "metadata": {},
   "outputs": [
    {
     "data": {
      "text/plain": [
       "2.53164176286237"
      ]
     },
     "execution_count": 160,
     "metadata": {},
     "output_type": "execute_result"
    }
   ],
   "source": [
    "# Experimental\n",
    "num_bot_15 = int(len(grades) * 0.15)\n",
    "grades.nsmallest(num_bot_15).mean()"
   ]
  },
  {
   "cell_type": "code",
   "execution_count": 161,
   "id": "91342f4e-523e-4403-815d-049311f0dceb",
   "metadata": {},
   "outputs": [
    {
     "data": {
      "text/plain": [
       "2.689069983151863"
      ]
     },
     "execution_count": 161,
     "metadata": {},
     "output_type": "execute_result"
    }
   ],
   "source": [
    "stats.norm(3, 0.3).ppf(0.15)"
   ]
  },
  {
   "cell_type": "markdown",
   "id": "fe1dcf9e-df87-46db-896f-ee294b049901",
   "metadata": {},
   "source": [
    "An eccentric alumnus left scholarship money for students in the third decile from the bottom of their class. Determine the range of the third decile. "
   ]
  },
  {
   "cell_type": "code",
   "execution_count": 210,
   "id": "efc829f2-fb6e-497f-ba27-537c60a2a6e6",
   "metadata": {},
   "outputs": [],
   "source": [
    "# Experimental\n",
    "decile = pd.qcut(grades, 10, labels = False)\n",
    "grades_w_decile = pd.concat([grades, decile],axis=1,)\n",
    "third_decile = grades_w_decile[grades_w_decile[1] == 2]"
   ]
  },
  {
   "cell_type": "code",
   "execution_count": 212,
   "id": "e8c558e6-3c66-44ba-a6fe-ddb2da35d0ff",
   "metadata": {},
   "outputs": [
    {
     "data": {
      "text/plain": [
       "2.7531895947084086"
      ]
     },
     "execution_count": 212,
     "metadata": {},
     "output_type": "execute_result"
    }
   ],
   "source": [
    "third_decile[0].min()"
   ]
  },
  {
   "cell_type": "code",
   "execution_count": 213,
   "id": "db5d428d-f1d6-4fc4-9a58-c5bc48c235d7",
   "metadata": {},
   "outputs": [
    {
     "data": {
      "text/plain": [
       "2.842368338801902"
      ]
     },
     "execution_count": 213,
     "metadata": {},
     "output_type": "execute_result"
    }
   ],
   "source": [
    "third_decile[0].max()"
   ]
  },
  {
   "cell_type": "code",
   "execution_count": 214,
   "id": "017d2af4-7d81-4de2-ac8a-26ec1c14eaa3",
   "metadata": {},
   "outputs": [
    {
     "data": {
      "text/plain": [
       "2.7475136299281258"
      ]
     },
     "execution_count": 214,
     "metadata": {},
     "output_type": "execute_result"
    }
   ],
   "source": [
    "# Theoretical\n",
    "stats.norm(3, 0.3).ppf(0.2)"
   ]
  },
  {
   "cell_type": "code",
   "execution_count": 215,
   "id": "340a0c19-1a5b-4f45-958e-365d874daf2c",
   "metadata": {},
   "outputs": [
    {
     "data": {
      "text/plain": [
       "2.842679846187588"
      ]
     },
     "execution_count": 215,
     "metadata": {},
     "output_type": "execute_result"
    }
   ],
   "source": [
    "# Theoretical\n",
    "stats.norm(3, 0.3).ppf(0.3)"
   ]
  },
  {
   "cell_type": "markdown",
   "id": "ca7eed4b-261a-4d60-a619-b3a6c120941a",
   "metadata": {},
   "source": [
    "- Students with a GPA of 2.75 to 2.84 fall in the third decile"
   ]
  },
  {
   "cell_type": "markdown",
   "id": "94a03673-7b0b-424a-af03-a563bf3b451a",
   "metadata": {},
   "source": [
    "Would a student with a 2.8 grade point average qualify for this scholarship?"
   ]
  },
  {
   "cell_type": "code",
   "execution_count": 216,
   "id": "fe01ac26-0256-45b4-b59a-7f9f59e069b8",
   "metadata": {},
   "outputs": [
    {
     "data": {
      "text/html": [
       "<div>\n",
       "<style scoped>\n",
       "    .dataframe tbody tr th:only-of-type {\n",
       "        vertical-align: middle;\n",
       "    }\n",
       "\n",
       "    .dataframe tbody tr th {\n",
       "        vertical-align: top;\n",
       "    }\n",
       "\n",
       "    .dataframe thead th {\n",
       "        text-align: right;\n",
       "    }\n",
       "</style>\n",
       "<table border=\"1\" class=\"dataframe\">\n",
       "  <thead>\n",
       "    <tr style=\"text-align: right;\">\n",
       "      <th></th>\n",
       "      <th>0</th>\n",
       "      <th>1</th>\n",
       "    </tr>\n",
       "  </thead>\n",
       "  <tbody>\n",
       "    <tr>\n",
       "      <th>9</th>\n",
       "      <td>2.801786</td>\n",
       "      <td>2</td>\n",
       "    </tr>\n",
       "    <tr>\n",
       "      <th>14</th>\n",
       "      <td>2.790880</td>\n",
       "      <td>2</td>\n",
       "    </tr>\n",
       "    <tr>\n",
       "      <th>20</th>\n",
       "      <td>2.830604</td>\n",
       "      <td>2</td>\n",
       "    </tr>\n",
       "    <tr>\n",
       "      <th>26</th>\n",
       "      <td>2.785229</td>\n",
       "      <td>2</td>\n",
       "    </tr>\n",
       "    <tr>\n",
       "      <th>39</th>\n",
       "      <td>2.787336</td>\n",
       "      <td>2</td>\n",
       "    </tr>\n",
       "    <tr>\n",
       "      <th>...</th>\n",
       "      <td>...</td>\n",
       "      <td>...</td>\n",
       "    </tr>\n",
       "    <tr>\n",
       "      <th>9987</th>\n",
       "      <td>2.798610</td>\n",
       "      <td>2</td>\n",
       "    </tr>\n",
       "    <tr>\n",
       "      <th>9988</th>\n",
       "      <td>2.757008</td>\n",
       "      <td>2</td>\n",
       "    </tr>\n",
       "    <tr>\n",
       "      <th>9991</th>\n",
       "      <td>2.823211</td>\n",
       "      <td>2</td>\n",
       "    </tr>\n",
       "    <tr>\n",
       "      <th>9996</th>\n",
       "      <td>2.809842</td>\n",
       "      <td>2</td>\n",
       "    </tr>\n",
       "    <tr>\n",
       "      <th>9997</th>\n",
       "      <td>2.809488</td>\n",
       "      <td>2</td>\n",
       "    </tr>\n",
       "  </tbody>\n",
       "</table>\n",
       "<p>1000 rows × 2 columns</p>\n",
       "</div>"
      ],
      "text/plain": [
       "             0  1\n",
       "9     2.801786  2\n",
       "14    2.790880  2\n",
       "20    2.830604  2\n",
       "26    2.785229  2\n",
       "39    2.787336  2\n",
       "...        ... ..\n",
       "9987  2.798610  2\n",
       "9988  2.757008  2\n",
       "9991  2.823211  2\n",
       "9996  2.809842  2\n",
       "9997  2.809488  2\n",
       "\n",
       "[1000 rows x 2 columns]"
      ]
     },
     "execution_count": 216,
     "metadata": {},
     "output_type": "execute_result"
    }
   ],
   "source": [
    "# Experimental\n",
    "third_decile[(third_decile[0]>2.8) | (third_decile[0]<2.8)]"
   ]
  },
  {
   "cell_type": "code",
   "execution_count": 95,
   "id": "533bf0f0-35a2-49fd-ba97-ec4f2847d4f6",
   "metadata": {},
   "outputs": [
    {
     "data": {
      "text/plain": [
       "0.2524925375469227"
      ]
     },
     "execution_count": 95,
     "metadata": {},
     "output_type": "execute_result"
    }
   ],
   "source": [
    "stats.norm(3, 0.3).cdf(2.8)"
   ]
  },
  {
   "cell_type": "markdown",
   "id": "1f7178a7-d60d-4525-a2f6-521ae20889e3",
   "metadata": {},
   "source": [
    "- Yes they would fall in the bottom 25 percentile of their class which falls in the range of the third decile."
   ]
  },
  {
   "cell_type": "markdown",
   "id": "eef08850-e01d-4bd5-9a88-0c2871bfd37b",
   "metadata": {},
   "source": [
    "If I have a GPA of 3.5, what percentile am I in?"
   ]
  },
  {
   "cell_type": "code",
   "execution_count": 222,
   "id": "60a54df5-1f42-49fb-a901-13ca2db9cbf2",
   "metadata": {},
   "outputs": [
    {
     "data": {
      "text/plain": [
       "0.9527"
      ]
     },
     "execution_count": 222,
     "metadata": {},
     "output_type": "execute_result"
    }
   ],
   "source": [
    "# Experimental\n",
    "1 - len(grades[grades >= 3.5])/len(grades)"
   ]
  },
  {
   "cell_type": "code",
   "execution_count": 223,
   "id": "b71febbc-d5c8-477f-8de9-0cb68086e58e",
   "metadata": {},
   "outputs": [
    {
     "data": {
      "text/plain": [
       "0.9522096477271853"
      ]
     },
     "execution_count": 223,
     "metadata": {},
     "output_type": "execute_result"
    }
   ],
   "source": [
    "stats.norm(3, 0.3).cdf(3.5)"
   ]
  },
  {
   "cell_type": "markdown",
   "id": "0f9f01fd-7bc2-4c7b-a45a-211231d1e679",
   "metadata": {},
   "source": [
    "Problem 3: A marketing website has an average click-through rate of 2%. One day they observe 4326 visitors and 97 click-throughs. \n",
    "How likely is it that this many people or more click through?"
   ]
  },
  {
   "cell_type": "code",
   "execution_count": 225,
   "id": "fd7afc8c-2527-4036-b579-598f7449120d",
   "metadata": {},
   "outputs": [
    {
     "data": {
      "image/png": "[encoded data removed]",
      "text/plain": [
       "<Figure size 1440x360 with 1 Axes>"
      ]
     },
     "metadata": {
      "needs_background": "light"
     },
     "output_type": "display_data"
    }
   ],
   "source": [
    "click = pd.Series(stats.binom(4326, 0.02).rvs(10_000))\n",
    "click.value_counts().sort_index().plot.bar(figsize=(20,5), width=1, ec='black')\n",
    "plt.show()"
   ]
  },
  {
   "cell_type": "code",
   "execution_count": 227,
   "id": "1f45bff8-3acb-4a4e-9436-c9c2693c0017",
   "metadata": {},
   "outputs": [
    {
     "data": {
      "text/plain": [
       "0.1388"
      ]
     },
     "execution_count": 227,
     "metadata": {},
     "output_type": "execute_result"
    }
   ],
   "source": [
    "(click >= 97).mean()"
   ]
  },
  {
   "cell_type": "code",
   "execution_count": 228,
   "id": "36660045-1a56-44af-8e8b-c65a584ad4e5",
   "metadata": {},
   "outputs": [
    {
     "data": {
      "text/plain": [
       "0.13975823631416445"
      ]
     },
     "execution_count": 228,
     "metadata": {},
     "output_type": "execute_result"
    }
   ],
   "source": [
    "stats.binom(4326, 0.02).sf(96)"
   ]
  },
  {
   "cell_type": "markdown",
   "id": "1eca68bf-8d60-461b-bc79-28caecbd18a8",
   "metadata": {},
   "source": [
    "Problem 4: You are working on some statistics homework consisting of 100 questions where all of the answers are a probability rounded to the hundreths place. \n",
    "Looking to save time, you put down random probabilities as the answer to each question.\n",
    "What is the probability that at least one of your first 60 answers is correct?"
   ]
  },
  {
   "cell_type": "code",
   "execution_count": 101,
   "id": "c9893726-fa73-4fe4-9603-299bded05a0d",
   "metadata": {},
   "outputs": [
    {
     "data": {
      "text/plain": [
       "0.45395833333333335"
      ]
     },
     "execution_count": 101,
     "metadata": {},
     "output_type": "execute_result"
    }
   ],
   "source": [
    "n_trials = 10_000\n",
    "n_problems = 60\n",
    "blind_guess = np.random.binomial(60,0.01,size = (n_trials,n_problems))\n",
    "one_right = blind_guess > 0\n",
    "one_right.mean()"
   ]
  },
  {
   "cell_type": "code",
   "execution_count": 102,
   "id": "01925c2c-9bd9-434d-9e2f-6dcf70c24838",
   "metadata": {},
   "outputs": [
    {
     "data": {
      "text/plain": [
       "0.45284335760923855"
      ]
     },
     "execution_count": 102,
     "metadata": {},
     "output_type": "execute_result"
    }
   ],
   "source": [
    "stats.binom(60,0.01).sf(0)"
   ]
  },
  {
   "cell_type": "markdown",
   "id": "fa487973-bc64-4b7c-8091-baca0b8be72c",
   "metadata": {},
   "source": [
    "Problem 5: The codeup staff tends to get upset when the student break area is not cleaned up. \n",
    "Suppose that there's a 3% chance that any one student cleans the break area when they visit it, and, on any given day, \n",
    "about 90% of the 3 active cohorts of 22 students visit the break area. How likely is it that the break area gets cleaned up each day? "
   ]
  },
  {
   "cell_type": "code",
   "execution_count": 224,
   "id": "a0398fc3-f702-4783-9e1a-24c7ae800530",
   "metadata": {},
   "outputs": [
    {
     "data": {
      "image/png": "[encoded data removed]",
      "text/plain": [
       "<Figure size 1440x360 with 1 Axes>"
      ]
     },
     "metadata": {
      "needs_background": "light"
     },
     "output_type": "display_data"
    }
   ],
   "source": [
    "clean_break = pd.Series(stats.binom(59, 0.03).rvs(10_000))\n",
    "clean_break.value_counts().sort_index().plot.bar(figsize=(20,5),width=1,ec='black')\n",
    "plt.show()"
   ]
  },
  {
   "cell_type": "code",
   "execution_count": 104,
   "id": "627927c7-f7ef-49ba-bd6d-2e13970f8889",
   "metadata": {},
   "outputs": [],
   "source": [
    "students_who_visit = 22 * 3 * 0.9\n",
    "chance_of_cleaning = 0.03"
   ]
  },
  {
   "cell_type": "code",
   "execution_count": 105,
   "id": "8436f176-9c50-4d42-92d2-f71f63ad11f2",
   "metadata": {},
   "outputs": [
    {
     "data": {
      "text/plain": [
       "0.8342199288437352"
      ]
     },
     "execution_count": 105,
     "metadata": {},
     "output_type": "execute_result"
    }
   ],
   "source": [
    "stats.binom(59,0.03).sf(0)"
   ]
  },
  {
   "cell_type": "markdown",
   "id": "7da1c989-c66b-45f7-b32d-f2423a0be5e9",
   "metadata": {},
   "source": [
    "How likely is it that it goes two days without getting cleaned up?"
   ]
  },
  {
   "cell_type": "code",
   "execution_count": 232,
   "id": "d0504ad6-3e12-484d-8a0f-49657e9abc96",
   "metadata": {},
   "outputs": [
    {
     "data": {
      "text/plain": [
       "0.02748303199257622"
      ]
     },
     "execution_count": 232,
     "metadata": {},
     "output_type": "execute_result"
    }
   ],
   "source": [
    "stats.binom(118,0.03).cdf(0)"
   ]
  },
  {
   "cell_type": "markdown",
   "id": "06147e4d-4c71-45d5-a7fe-d02d048078c3",
   "metadata": {},
   "source": [
    "All week?"
   ]
  },
  {
   "cell_type": "code",
   "execution_count": null,
   "id": "2069959a-3e86-4aa5-a010-58d37d370c5a",
   "metadata": {},
   "outputs": [],
   "source": [
    "# Experimental"
   ]
  },
  {
   "cell_type": "code",
   "execution_count": 109,
   "id": "2178450e-646f-4944-b16c-aa7ebc496ac5",
   "metadata": {},
   "outputs": [
    {
     "data": {
      "text/plain": [
       "3.441329456988011e-06"
      ]
     },
     "execution_count": 109,
     "metadata": {},
     "output_type": "execute_result"
    }
   ],
   "source": [
    "stats.binom(413,0.03).cdf(0)"
   ]
  },
  {
   "cell_type": "markdown",
   "id": "21997352-9f9f-4bd8-a41a-080726512b68",
   "metadata": {},
   "source": [
    "Problem 6: You want to get lunch at La Panaderia, but notice that the line is usually very long at lunchtime. After several weeks of careful observation, you notice that the average number of people in line when your lunch break starts is normally distributed with a mean of 15 and standard deviation of 3. If it takes 2 minutes for each person to order, and 10 minutes from ordering to getting your food, what is the likelihood that you have at least 15 minutes left to eat your food before you have to go back to class? Assume you have one hour for lunch, and ignore travel time to and from La Panaderia."
   ]
  },
  {
   "cell_type": "code",
   "execution_count": 110,
   "id": "62f40325-bd75-4e24-a067-bf7780389232",
   "metadata": {},
   "outputs": [
    {
     "data": {
      "text/plain": [
       "0.7421"
      ]
     },
     "execution_count": 110,
     "metadata": {},
     "output_type": "execute_result"
    }
   ],
   "source": [
    "mean_line_length = 15\n",
    "std_line_lenght = 3\n",
    "order_time_per_person = 2\n",
    "time_after_order = 10\n",
    "# (60 min lunch time) - (15 min to eat) - (10 min from order to completion) = \n",
    "# (35 min to get the order in) / (2 min per customer) = (17 customers max to get food on time)  \n",
    "\n",
    "(np.random.normal(15, 3, size=10_000) <= 17).mean()"
   ]
  },
  {
   "cell_type": "code",
   "execution_count": 111,
   "id": "70bd025a-ffa5-4471-8e51-cbf687fdbd82",
   "metadata": {},
   "outputs": [
    {
     "data": {
      "text/plain": [
       "0.7475074624530771"
      ]
     },
     "execution_count": 111,
     "metadata": {},
     "output_type": "execute_result"
    }
   ],
   "source": [
    "stats.norm(15, 3).cdf(17)"
   ]
  },
  {
   "cell_type": "markdown",
   "id": "f6258790-da3c-4c07-92a8-e197e0a0ce69",
   "metadata": {},
   "source": [
    "Problem 7: Connect to the employees database and find the average salary of current employees, along with the standard deviation. For the following questions, calculate the answer based on modeling the employees salaries with a normal distribution defined by the calculated mean and standard deviation then compare this answer to the actual values present in the salaries dataset."
   ]
  },
  {
   "cell_type": "code",
   "execution_count": 112,
   "id": "f1779ed7-fd9b-4676-8f78-507fd902e76b",
   "metadata": {},
   "outputs": [],
   "source": [
    "from env import host, user, password, get_db_url"
   ]
  },
  {
   "cell_type": "code",
   "execution_count": 113,
   "id": "ba9ab0e7-8ec4-40ea-943d-3b93fdd71ed7",
   "metadata": {},
   "outputs": [],
   "source": [
    "url = get_db_url('employees', user, password, host)"
   ]
  },
  {
   "cell_type": "code",
   "execution_count": 114,
   "id": "5cc8974c-725e-40d5-9780-a49cc6f1eb4a",
   "metadata": {},
   "outputs": [
    {
     "data": {
      "text/html": [
       "<div>\n",
       "<style scoped>\n",
       "    .dataframe tbody tr th:only-of-type {\n",
       "        vertical-align: middle;\n",
       "    }\n",
       "\n",
       "    .dataframe tbody tr th {\n",
       "        vertical-align: top;\n",
       "    }\n",
       "\n",
       "    .dataframe thead th {\n",
       "        text-align: right;\n",
       "    }\n",
       "</style>\n",
       "<table border=\"1\" class=\"dataframe\">\n",
       "  <thead>\n",
       "    <tr style=\"text-align: right;\">\n",
       "      <th></th>\n",
       "      <th>salary</th>\n",
       "    </tr>\n",
       "  </thead>\n",
       "  <tbody>\n",
       "    <tr>\n",
       "      <th>0</th>\n",
       "      <td>88958</td>\n",
       "    </tr>\n",
       "    <tr>\n",
       "      <th>1</th>\n",
       "      <td>72527</td>\n",
       "    </tr>\n",
       "    <tr>\n",
       "      <th>2</th>\n",
       "      <td>43311</td>\n",
       "    </tr>\n",
       "    <tr>\n",
       "      <th>3</th>\n",
       "      <td>74057</td>\n",
       "    </tr>\n",
       "    <tr>\n",
       "      <th>4</th>\n",
       "      <td>94692</td>\n",
       "    </tr>\n",
       "  </tbody>\n",
       "</table>\n",
       "</div>"
      ],
      "text/plain": [
       "   salary\n",
       "0   88958\n",
       "1   72527\n",
       "2   43311\n",
       "3   74057\n",
       "4   94692"
      ]
     },
     "execution_count": 114,
     "metadata": {},
     "output_type": "execute_result"
    }
   ],
   "source": [
    "salary = pd.read_sql('''\n",
    "\n",
    "SELECT salary \n",
    "FROM salaries \n",
    "WHERE to_date = '9999-01-01' \n",
    "\n",
    "''', url)\n",
    "salary.head(5)"
   ]
  },
  {
   "cell_type": "code",
   "execution_count": 115,
   "id": "71fb9b89-ba1a-44e6-a14b-4913e1081509",
   "metadata": {},
   "outputs": [
    {
     "data": {
      "text/plain": [
       "salary    72012.235857\n",
       "dtype: float64"
      ]
     },
     "execution_count": 115,
     "metadata": {},
     "output_type": "execute_result"
    }
   ],
   "source": [
    "salary_average = salary.agg(\"mean\")\n",
    "salary_average"
   ]
  },
  {
   "cell_type": "code",
   "execution_count": 116,
   "id": "ee223b78-e250-434d-979d-00a8e54cf8d3",
   "metadata": {},
   "outputs": [
    {
     "data": {
      "text/plain": [
       "salary    17309.99538\n",
       "dtype: float64"
      ]
     },
     "execution_count": 116,
     "metadata": {},
     "output_type": "execute_result"
    }
   ],
   "source": [
    "salary_std_dev = salary.agg(\"std\")\n",
    "salary_std_dev"
   ]
  },
  {
   "cell_type": "code",
   "execution_count": 285,
   "id": "9a39b1b1-5fc1-47f2-82c7-5572ce9c1fb2",
   "metadata": {},
   "outputs": [],
   "source": [
    "simulated = pd.Series(stats.norm(loc = salary_average, scale = salary_std_dev).rvs(10_000))"
   ]
  },
  {
   "cell_type": "markdown",
   "id": "d9145a12-14e4-4b57-b6eb-d0e3c924416d",
   "metadata": {},
   "source": [
    "What percent of employees earn less than 60,000?"
   ]
  },
  {
   "cell_type": "code",
   "execution_count": 283,
   "id": "f4ac140b-c032-4677-8122-c57138901825",
   "metadata": {},
   "outputs": [
    {
     "data": {
      "text/plain": [
       "salary    0.270573\n",
       "dtype: float64"
      ]
     },
     "execution_count": 283,
     "metadata": {},
     "output_type": "execute_result"
    }
   ],
   "source": [
    "# Experimental\n",
    "(salary < 60_000).mean()"
   ]
  },
  {
   "cell_type": "code",
   "execution_count": 286,
   "id": "7b86af42-7db7-4735-9bee-da1adf2edf95",
   "metadata": {},
   "outputs": [
    {
     "data": {
      "text/plain": [
       "0.2526"
      ]
     },
     "execution_count": 286,
     "metadata": {},
     "output_type": "execute_result"
    }
   ],
   "source": [
    "# Theoretical\n",
    "(simulated < 60_000).mean()"
   ]
  },
  {
   "cell_type": "markdown",
   "id": "ec5e2206-eddf-4799-87f7-bf5aa1cd9776",
   "metadata": {},
   "source": [
    "What percent of employees earn more than 95,000?"
   ]
  },
  {
   "cell_type": "code",
   "execution_count": 287,
   "id": "c03814cc-0b2b-45e0-849c-c45e8deec79c",
   "metadata": {},
   "outputs": [
    {
     "data": {
      "text/plain": [
       "salary    0.108627\n",
       "dtype: float64"
      ]
     },
     "execution_count": 287,
     "metadata": {},
     "output_type": "execute_result"
    }
   ],
   "source": [
    "# Experimental\n",
    "(salary > 95_000).mean()"
   ]
  },
  {
   "cell_type": "code",
   "execution_count": 288,
   "id": "234ba047-a16c-4a5d-b5a6-e5936fde1970",
   "metadata": {},
   "outputs": [
    {
     "data": {
      "text/plain": [
       "0.0891"
      ]
     },
     "execution_count": 288,
     "metadata": {},
     "output_type": "execute_result"
    }
   ],
   "source": [
    "# Theoretical\n",
    "(simulated > 95_000).mean()"
   ]
  },
  {
   "cell_type": "markdown",
   "id": "694cee6b-381e-4675-9099-f96764d444e2",
   "metadata": {},
   "source": [
    "What percent of employees earn between 65,000 and 80,000?"
   ]
  },
  {
   "cell_type": "code",
   "execution_count": 297,
   "id": "f1aa18bd-8732-4f92-aebd-08e258e69724",
   "metadata": {},
   "outputs": [
    {
     "data": {
      "text/plain": [
       "salary    0.325107\n",
       "dtype: float64"
      ]
     },
     "execution_count": 297,
     "metadata": {},
     "output_type": "execute_result"
    }
   ],
   "source": [
    "# Experimental\n",
    "((salary > 65_000) & (salary < 80_000)).mean()"
   ]
  },
  {
   "cell_type": "code",
   "execution_count": 299,
   "id": "58cc3bf8-b8ae-43c4-90b0-b55780de8fc7",
   "metadata": {},
   "outputs": [
    {
     "data": {
      "text/plain": [
       "0.3271"
      ]
     },
     "execution_count": 299,
     "metadata": {},
     "output_type": "execute_result"
    }
   ],
   "source": [
    "# Theoretical\n",
    "((simulated > 65_000) & (simulated < 80_000)).mean()"
   ]
  },
  {
   "cell_type": "markdown",
   "id": "55433889-206f-4b66-bef8-c87aad4cb51f",
   "metadata": {},
   "source": [
    "What do the top 5% of employees make?\n",
    "Hint If you're looking at this exercise and wondering \"How do I get pandas to talk the database, again?\", remember that you'll need 3 things: your .gitignore, your env.py, and to use pd.read_sql."
   ]
  },
  {
   "cell_type": "code",
   "execution_count": 307,
   "id": "5c834a38-260e-4c3d-8242-dba67a9d951b",
   "metadata": {},
   "outputs": [
    {
     "data": {
      "text/plain": [
       "104228"
      ]
     },
     "execution_count": 307,
     "metadata": {},
     "output_type": "execute_result"
    }
   ],
   "source": [
    "# Experimental\n",
    "top_five = int(len(salary)*0.05)\n",
    "salary.salary.nlargest(top_five).min()"
   ]
  },
  {
   "cell_type": "code",
   "execution_count": 308,
   "id": "071456c1-9b9b-48c5-a53b-6af13a2a1ee4",
   "metadata": {},
   "outputs": [
    {
     "data": {
      "text/plain": [
       "100244.23376566597"
      ]
     },
     "execution_count": 308,
     "metadata": {},
     "output_type": "execute_result"
    }
   ],
   "source": [
    "# Theoretical\n",
    "top_five = int(len(simulated)*0.05)\n",
    "simulated.nlargest(top_five).min()"
   ]
  },
  {
   "cell_type": "markdown",
   "id": "927aa3e6-15bf-4491-b1bb-f72083526ed7",
   "metadata": {},
   "source": [
    "Top 5 % make over 104,228 dollars in the data and 100,244 dollars in the simulation."
   ]
  }
 ],
 "metadata": {
  "kernelspec": {
   "display_name": "Python 3 (ipykernel)",
   "language": "python",
   "name": "python3"
  },
  "language_info": {
   "codemirror_mode": {
    "name": "ipython",
    "version": 3
   },
   "file_extension": ".py",
   "mimetype": "text/x-python",
   "name": "python",
   "nbconvert_exporter": "python",
   "pygments_lexer": "ipython3",
   "version": "3.9.7"
  }
 },
 "nbformat": 4,
 "nbformat_minor": 5
}
